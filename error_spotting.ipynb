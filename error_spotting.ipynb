{
 "cells": [
  {
   "cell_type": "code",
   "execution_count": 151,
   "metadata": {},
   "outputs": [],
   "source": [
    "import csv\n",
    "import pandas as pd\n",
    "import re\n",
    "import numpy as np"
   ]
  },
  {
   "cell_type": "code",
   "execution_count": 152,
   "metadata": {},
   "outputs": [],
   "source": [
    "# Selecting the words to be found in the file:\n",
    "search_words = {\"Failed \", \"requeued\", \"False\", \"Error\", \"No\", \"could not\", \"Could not\", \"null\", \"only accepts\", \n",
    "                \"either null or incorrect\", \"Only quartertly data\", \"did not\", \n",
    "                }\n",
    "\n",
    "# Loading file:\n",
    "df = pd.read_csv(\"test_errors.csv\")"
   ]
  },
  {
   "cell_type": "code",
   "execution_count": 153,
   "metadata": {},
   "outputs": [
    {
     "data": {
      "text/plain": [
       "'Log for 1195587'"
      ]
     },
     "execution_count": 153,
     "metadata": {},
     "output_type": "execute_result"
    }
   ],
   "source": [
    "# Checking the column name where we'll be getting the notes for the report:\n",
    "column = df.columns[0]\n",
    "column"
   ]
  },
  {
   "cell_type": "code",
   "execution_count": 154,
   "metadata": {},
   "outputs": [
    {
     "data": {
      "text/plain": [
       "0                      45125\n",
       "1                          \n",
       "2                          \n",
       "3                0.431759259\n",
       "4                    Details\n",
       "               ...          \n",
       "85               0.453738426\n",
       "86      Performance complete\n",
       "87                         \n",
       "88               0.453738426\n",
       "89    Dashboard was updated!\n",
       "Name: Log for 1195587, Length: 90, dtype: object"
      ]
     },
     "execution_count": 154,
     "metadata": {},
     "output_type": "execute_result"
    }
   ],
   "source": [
    "df[column]"
   ]
  },
  {
   "cell_type": "code",
   "execution_count": 155,
   "metadata": {},
   "outputs": [
    {
     "name": "stdout",
     "output_type": "stream",
     "text": [
      "*Could not compare values for \"Qtr Net\". This value was null in the Vault\n",
      "*Queue item has been requeued for 1015612 -> No more retries\n",
      "*Error in Automation.ProcessBrowser\n",
      "*Queue item has been requeued for 1016343 -> Performance complete\n",
      "*Error in Automation.ProcessBrowser\n",
      "*Queue item has been requeued for 1016273 -> Performance complete\n",
      "*Error in Automation.ProcessBrowser\n",
      "*Queue item has been requeued for 1016203 -> Performance complete\n",
      "*Error in eVestmentAlliance.PushPerformance -> Performance complete\n",
      "*Error in Automation.ProcessBrowser\n",
      "*Queue item has been requeued for 1016173 -> Performance complete\n",
      "*Error in eVestmentAlliance.PushPerformance -> Performance complete\n",
      "*Error in eVestmentAlliance.PushPerformance -> Performance complete\n",
      "*Comparing \"Month Gross\" 2.13180 \"1.6555\" False\n",
      "*Comparing \"Qtr Gross\" 2.77129 \"3.2085\" False\n",
      "*Comparing \"Month Net\" 2.12710 \"1.6305\" False\n",
      "*Comparing \"Qtr Net\" 2.75703 \"3.1319\" False\n",
      "*Queue item has been requeued for 1016048\n",
      "*Error in Automation.ProcessBrowser -> No more retries\n",
      "*Error in Automation.ProcessBrowser\n",
      "*Queue item has been requeued for 1015932 -> Performance complete\n"
     ]
    }
   ],
   "source": [
    "for i in range(len(df.index)):\n",
    "   if any(x in df[column][i] for x in search_words):\n",
    "      print('*'+ df[column][i])"
   ]
  },
  {
   "cell_type": "code",
   "execution_count": 156,
   "metadata": {},
   "outputs": [
    {
     "data": {
      "text/html": [
       "<div>\n",
       "<style scoped>\n",
       "    .dataframe tbody tr th:only-of-type {\n",
       "        vertical-align: middle;\n",
       "    }\n",
       "\n",
       "    .dataframe tbody tr th {\n",
       "        vertical-align: top;\n",
       "    }\n",
       "\n",
       "    .dataframe thead th {\n",
       "        text-align: right;\n",
       "    }\n",
       "</style>\n",
       "<table border=\"1\" class=\"dataframe\">\n",
       "  <thead>\n",
       "    <tr style=\"text-align: right;\">\n",
       "      <th></th>\n",
       "      <th>Log for 1195587</th>\n",
       "    </tr>\n",
       "  </thead>\n",
       "  <tbody>\n",
       "    <tr>\n",
       "      <th>0</th>\n",
       "      <td>45125</td>\n",
       "    </tr>\n",
       "    <tr>\n",
       "      <th>1</th>\n",
       "      <td></td>\n",
       "    </tr>\n",
       "    <tr>\n",
       "      <th>2</th>\n",
       "      <td></td>\n",
       "    </tr>\n",
       "    <tr>\n",
       "      <th>3</th>\n",
       "      <td>0.431759259</td>\n",
       "    </tr>\n",
       "    <tr>\n",
       "      <th>4</th>\n",
       "      <td>Details</td>\n",
       "    </tr>\n",
       "    <tr>\n",
       "      <th>...</th>\n",
       "      <td>...</td>\n",
       "    </tr>\n",
       "    <tr>\n",
       "      <th>85</th>\n",
       "      <td>0.453738426</td>\n",
       "    </tr>\n",
       "    <tr>\n",
       "      <th>86</th>\n",
       "      <td>Performance complete</td>\n",
       "    </tr>\n",
       "    <tr>\n",
       "      <th>87</th>\n",
       "      <td></td>\n",
       "    </tr>\n",
       "    <tr>\n",
       "      <th>88</th>\n",
       "      <td>0.453738426</td>\n",
       "    </tr>\n",
       "    <tr>\n",
       "      <th>89</th>\n",
       "      <td>Dashboard was updated!</td>\n",
       "    </tr>\n",
       "  </tbody>\n",
       "</table>\n",
       "<p>90 rows × 1 columns</p>\n",
       "</div>"
      ],
      "text/plain": [
       "           Log for 1195587\n",
       "0                    45125\n",
       "1                        \n",
       "2                        \n",
       "3              0.431759259\n",
       "4                  Details\n",
       "..                     ...\n",
       "85             0.453738426\n",
       "86    Performance complete\n",
       "87                       \n",
       "88             0.453738426\n",
       "89  Dashboard was updated!\n",
       "\n",
       "[90 rows x 1 columns]"
      ]
     },
     "execution_count": 156,
     "metadata": {},
     "output_type": "execute_result"
    }
   ],
   "source": [
    "df"
   ]
  },
  {
   "cell_type": "code",
   "execution_count": 157,
   "metadata": {},
   "outputs": [
    {
     "data": {
      "text/plain": [
       "'eVestment Alliance'"
      ]
     },
     "execution_count": 157,
     "metadata": {},
     "output_type": "execute_result"
    }
   ],
   "source": [
    "df.iloc[6][0]"
   ]
  },
  {
   "cell_type": "code",
   "execution_count": 158,
   "metadata": {},
   "outputs": [
    {
     "data": {
      "text/plain": [
       "'1195587'"
      ]
     },
     "execution_count": 158,
     "metadata": {},
     "output_type": "execute_result"
    }
   ],
   "source": [
    "id = re.findall('\\d+', column)\n",
    "id[0]"
   ]
  },
  {
   "cell_type": "code",
   "execution_count": 160,
   "metadata": {},
   "outputs": [],
   "source": [
    "# Building the report table:\n",
    "# Extracting the ID number:\n",
    "id = re.findall('\\d+', column)\n",
    "\n",
    "data  = [[id[0], df.iloc[5][0], df.iloc[6][0], df.iloc[7][0], df.iloc[8][0], df.iloc[11][0], np.nan, np.nan]]\n",
    "\n",
    "# Building the new dataframe for the report:\n",
    "df  = pd.DataFrame(data, columns = ['Id', 'Status', 'Database', 'Type', 'Task', 'Period', 'Report', 'Review'])         "
   ]
  },
  {
   "cell_type": "code",
   "execution_count": 161,
   "metadata": {},
   "outputs": [
    {
     "data": {
      "text/html": [
       "<div>\n",
       "<style scoped>\n",
       "    .dataframe tbody tr th:only-of-type {\n",
       "        vertical-align: middle;\n",
       "    }\n",
       "\n",
       "    .dataframe tbody tr th {\n",
       "        vertical-align: top;\n",
       "    }\n",
       "\n",
       "    .dataframe thead th {\n",
       "        text-align: right;\n",
       "    }\n",
       "</style>\n",
       "<table border=\"1\" class=\"dataframe\">\n",
       "  <thead>\n",
       "    <tr style=\"text-align: right;\">\n",
       "      <th></th>\n",
       "      <th>Id</th>\n",
       "      <th>Status</th>\n",
       "      <th>Database</th>\n",
       "      <th>Type</th>\n",
       "      <th>Task</th>\n",
       "      <th>Period</th>\n",
       "      <th>Report</th>\n",
       "      <th>Review</th>\n",
       "    </tr>\n",
       "  </thead>\n",
       "  <tbody>\n",
       "    <tr>\n",
       "      <th>0</th>\n",
       "      <td>1195587</td>\n",
       "      <td>Complete</td>\n",
       "      <td>eVestment Alliance</td>\n",
       "      <td>Recon</td>\n",
       "      <td>Performance</td>\n",
       "      <td>45100</td>\n",
       "      <td>NaN</td>\n",
       "      <td>NaN</td>\n",
       "    </tr>\n",
       "  </tbody>\n",
       "</table>\n",
       "</div>"
      ],
      "text/plain": [
       "        Id    Status            Database   Type         Task Period  Report  \\\n",
       "0  1195587  Complete  eVestment Alliance  Recon  Performance  45100     NaN   \n",
       "\n",
       "   Review  \n",
       "0     NaN  "
      ]
     },
     "execution_count": 161,
     "metadata": {},
     "output_type": "execute_result"
    }
   ],
   "source": [
    "df"
   ]
  },
  {
   "cell_type": "code",
   "execution_count": null,
   "metadata": {},
   "outputs": [],
   "source": []
  }
 ],
 "metadata": {
  "kernelspec": {
   "display_name": "base",
   "language": "python",
   "name": "python3"
  },
  "language_info": {
   "codemirror_mode": {
    "name": "ipython",
    "version": 3
   },
   "file_extension": ".py",
   "mimetype": "text/x-python",
   "name": "python",
   "nbconvert_exporter": "python",
   "pygments_lexer": "ipython3",
   "version": "3.10.9"
  },
  "orig_nbformat": 4
 },
 "nbformat": 4,
 "nbformat_minor": 2
}
