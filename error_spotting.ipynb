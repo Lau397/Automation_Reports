{
 "cells": [
  {
   "cell_type": "code",
   "execution_count": 1,
   "metadata": {},
   "outputs": [],
   "source": [
    "import csv\n",
    "import pandas as pd"
   ]
  },
  {
   "cell_type": "code",
   "execution_count": 2,
   "metadata": {},
   "outputs": [
    {
     "data": {
      "text/html": [
       "<div>\n",
       "<style scoped>\n",
       "    .dataframe tbody tr th:only-of-type {\n",
       "        vertical-align: middle;\n",
       "    }\n",
       "\n",
       "    .dataframe tbody tr th {\n",
       "        vertical-align: top;\n",
       "    }\n",
       "\n",
       "    .dataframe thead th {\n",
       "        text-align: right;\n",
       "    }\n",
       "</style>\n",
       "<table border=\"1\" class=\"dataframe\">\n",
       "  <thead>\n",
       "    <tr style=\"text-align: right;\">\n",
       "      <th></th>\n",
       "      <th></th>\n",
       "    </tr>\n",
       "  </thead>\n",
       "  <tbody>\n",
       "    <tr>\n",
       "      <th>0</th>\n",
       "      <td>11:22:15</td>\n",
       "    </tr>\n",
       "    <tr>\n",
       "      <th>1</th>\n",
       "      <td>Details</td>\n",
       "    </tr>\n",
       "    <tr>\n",
       "      <th>2</th>\n",
       "      <td>Failed</td>\n",
       "    </tr>\n",
       "    <tr>\n",
       "      <th>3</th>\n",
       "      <td>Mercer</td>\n",
       "    </tr>\n",
       "    <tr>\n",
       "      <th>4</th>\n",
       "      <td>Save</td>\n",
       "    </tr>\n",
       "    <tr>\n",
       "      <th>...</th>\n",
       "      <td>...</td>\n",
       "    </tr>\n",
       "    <tr>\n",
       "      <th>131</th>\n",
       "      <td>3:28:10</td>\n",
       "    </tr>\n",
       "    <tr>\n",
       "      <th>132</th>\n",
       "      <td>Failed for 993727</td>\n",
       "    </tr>\n",
       "    <tr>\n",
       "      <th>133</th>\n",
       "      <td></td>\n",
       "    </tr>\n",
       "    <tr>\n",
       "      <th>134</th>\n",
       "      <td>3:28:10</td>\n",
       "    </tr>\n",
       "    <tr>\n",
       "      <th>135</th>\n",
       "      <td>No more retries for 993727</td>\n",
       "    </tr>\n",
       "  </tbody>\n",
       "</table>\n",
       "<p>136 rows × 1 columns</p>\n",
       "</div>"
      ],
      "text/plain": [
       "                              \n",
       "0                      11:22:15\n",
       "1                       Details\n",
       "2                        Failed\n",
       "3                        Mercer\n",
       "4                          Save\n",
       "..                          ...\n",
       "131                     3:28:10\n",
       "132           Failed for 993727\n",
       "133                           \n",
       "134                     3:28:10\n",
       "135  No more retries for 993727\n",
       "\n",
       "[136 rows x 1 columns]"
      ]
     },
     "execution_count": 2,
     "metadata": {},
     "output_type": "execute_result"
    }
   ],
   "source": [
    "file = pd.read_csv('test_errors.csv')\n",
    "file"
   ]
  },
  {
   "cell_type": "code",
   "execution_count": 60,
   "metadata": {},
   "outputs": [
    {
     "name": "stdout",
     "output_type": "stream",
     "text": [
      "['Failed']\n"
     ]
    }
   ],
   "source": [
    "with  open('filtered_errors.csv', 'w', newline = '') as output_file:\n",
    "    writer = csv.writer(output_file, delimiter = ',', quotechar='|', quoting=csv.QUOTE_MINIMAL)\n",
    "\n",
    "    with open('test_errors.csv', 'r') as file:\n",
    "        file_reader = csv.reader(file)\n",
    "\n",
    "        for row in file_reader:\n",
    "            search_words = {\"Failed\", \"requeued\", \"False\", \"No\"}\n",
    "            for i in search_words:  \n",
    "                if i in row:\n",
    "                    print(row)\n",
    "                    #writer.writerow(row)"
   ]
  },
  {
   "cell_type": "code",
   "execution_count": 56,
   "metadata": {},
   "outputs": [
    {
     "data": {
      "text/plain": [
       "[]"
      ]
     },
     "execution_count": 56,
     "metadata": {},
     "output_type": "execute_result"
    }
   ],
   "source": [
    "search_words = [\"Failed\", \"requeued\", \"False\", \"No\"]"
   ]
  },
  {
   "cell_type": "code",
   "execution_count": 42,
   "metadata": {},
   "outputs": [
    {
     "data": {
      "text/plain": [
       "[['\\ufeff\\uf017'],\n",
       " ['11:22:15'],\n",
       " ['Details'],\n",
       " ['Mercer'],\n",
       " ['Save'],\n",
       " ['Firm AUM'],\n",
       " ['Spyglass Capital Management (164)'],\n",
       " ['Firm (0)'],\n",
       " ['Mar-23'],\n",
       " ['John Zhang (U0005164)'],\n",
       " ['4/6/2023'],\n",
       " ['\\uf017'],\n",
       " ['3:26:27'],\n",
       " ['IP address \"10.2.0.6\"'],\n",
       " ['\\uf017'],\n",
       " ['3:26:27'],\n",
       " ['External IP address: \"40.124.136.95\"'],\n",
       " ['\\uf017'],\n",
       " ['3:26:27'],\n",
       " ['Closing any popups that might be here.'],\n",
       " ['\\uf017'],\n",
       " ['3:26:27'],\n",
       " ['Setting download directory'],\n",
       " ['\\uf017'],\n",
       " ['3:26:27'],\n",
       " ['Pushing data'],\n",
       " ['\\uf017'],\n",
       " ['3:26:27'],\n",
       " ['Logging into \"Mercer\"'],\n",
       " ['\\uf017'],\n",
       " ['3:26:27'],\n",
       " ['URL: \"https://www.mercergimd.com/secure/login.asp?RFR=\"'],\n",
       " ['https://www.mercergimd.com/secure/login.asp?RFR='],\n",
       " ['\\uf017'],\n",
       " ['3:26:46'],\n",
       " ['Taking screenshot: \"after-login-1.png\"'],\n",
       " ['\\uf017'],\n",
       " ['3:26:47'],\n",
       " ['URL: \"https://www.mercergimd.com/secure/manager/VBMDecision.asp?1=ManagerID\"'],\n",
       " ['https://www.mercergimd.com/secure/manager/VBMDecision.asp?1=ManagerID'],\n",
       " ['\\uf017'],\n",
       " ['3:27:10'],\n",
       " ['Taking screenshot: \"manager_about_page.png\"'],\n",
       " ['\\uf017'],\n",
       " ['3:28:10'],\n",
       " ['After login, URL is \"https://www.mercergimd.com/secure/\"'],\n",
       " ['https://www.mercergimd.com/secure/'],\n",
       " ['\\uf017'],\n",
       " ['3:28:10'],\n",
       " ['Starting Firm AUM'],\n",
       " ['\\uf017'],\n",
       " ['3:28:10'],\n",
       " ['Mercer only accepts biannual data'],\n",
       " ['\\uf017'],\n",
       " ['3:28:10'],\n",
       " ['Failed for 993727'],\n",
       " ['\\uf017'],\n",
       " ['3:28:10'],\n",
       " ['No more retries for 993727'],\n",
       " ['\\uf017'],\n",
       " ['3:26:27'],\n",
       " ['Closing any popups that might be here.'],\n",
       " ['\\uf017'],\n",
       " ['3:26:27'],\n",
       " ['Setting download directory'],\n",
       " ['\\uf017'],\n",
       " ['3:26:27'],\n",
       " ['Pushing data'],\n",
       " ['\\uf017'],\n",
       " ['3:26:27'],\n",
       " ['Logging into \"Mercer\"'],\n",
       " ['\\uf017'],\n",
       " ['3:26:27'],\n",
       " ['URL: \"https://www.mercergimd.com/secure/login.asp?RFR=\"'],\n",
       " [],\n",
       " ['After login, URL is \"https://www.mercergimd.com/secure/\"'],\n",
       " ['https://www.mercergimd.com/secure/'],\n",
       " ['\\uf017'],\n",
       " ['3:27:10'],\n",
       " ['Starting Firm AUM'],\n",
       " ['\\uf017'],\n",
       " ['3:27:10'],\n",
       " ['Mercer only accepts biannual data'],\n",
       " ['\\uf017'],\n",
       " ['3:27:10'],\n",
       " ['Failed for 993727'],\n",
       " ['\\uf017'],\n",
       " ['3:27:10'],\n",
       " ['Queue item has been requeued for 993727'],\n",
       " ['\\uf017'],\n",
       " ['3:27:27'],\n",
       " ['IP address \"10.2.0.45\"'],\n",
       " ['\\uf017'],\n",
       " ['3:27:27'],\n",
       " ['External IP address: \"40.124.136.95\"'],\n",
       " ['\\uf017'],\n",
       " ['3:27:27'],\n",
       " ['Closing any popups that might be here.'],\n",
       " ['\\uf017'],\n",
       " ['3:27:27'],\n",
       " ['Setting download directory'],\n",
       " ['\\uf017'],\n",
       " ['3:27:27'],\n",
       " ['Pushing data'],\n",
       " ['\\uf017'],\n",
       " ['3:27:27'],\n",
       " ['Logging into \"Mercer\"'],\n",
       " ['\\uf017'],\n",
       " ['3:27:27'],\n",
       " ['URL: \"https://www.mercergimd.com/secure/login.asp?RFR=\"'],\n",
       " ['https://www.mercergimd.com/secure/login.asp?RFR='],\n",
       " ['\\uf017'],\n",
       " ['3:27:47'],\n",
       " ['Taking screenshot: \"after-login-1.png\"'],\n",
       " ['\\uf017'],\n",
       " ['3:27:47'],\n",
       " ['URL: \"https://www.mercergimd.com/secure/manager/VBMDecision.asp?1=ManagerID\"'],\n",
       " ['https://www.mercergimd.com/secure/manager/VBMDecision.asp?1=ManagerID'],\n",
       " ['\\uf017'],\n",
       " ['3:28:10'],\n",
       " ['Taking screenshot: \"manager_about_page.png\"'],\n",
       " ['\\uf017'],\n",
       " ['3:28:10'],\n",
       " ['After login, URL is \"https://www.mercergimd.com/secure/\"'],\n",
       " ['https://www.mercergimd.com/secure/'],\n",
       " ['\\uf017'],\n",
       " ['3:28:10'],\n",
       " ['Starting Firm AUM'],\n",
       " ['\\uf017'],\n",
       " ['3:28:10'],\n",
       " ['Mercer only accepts biannual data'],\n",
       " ['\\uf017'],\n",
       " ['3:28:10'],\n",
       " ['Failed for 993727'],\n",
       " ['\\uf017'],\n",
       " ['3:28:10'],\n",
       " ['No more retries for 993727']]"
      ]
     },
     "execution_count": 42,
     "metadata": {},
     "output_type": "execute_result"
    }
   ],
   "source": [
    "   "
   ]
  },
  {
   "cell_type": "code",
   "execution_count": null,
   "metadata": {},
   "outputs": [],
   "source": [
    "df = pd.DataFrame()n fvhfchbvcg yff"
   ]
  },
  {
   "cell_type": "code",
   "execution_count": 16,
   "metadata": {},
   "outputs": [
    {
     "ename": "AttributeError",
     "evalue": "'list' object has no attribute 'str'",
     "output_type": "error",
     "traceback": [
      "\u001b[1;31m---------------------------------------------------------------------------\u001b[0m",
      "\u001b[1;31mAttributeError\u001b[0m                            Traceback (most recent call last)",
      "Cell \u001b[1;32mIn[16], line 2\u001b[0m\n\u001b[0;32m      1\u001b[0m \u001b[39mfor\u001b[39;00m i \u001b[39min\u001b[39;00m line:\n\u001b[1;32m----> 2\u001b[0m     \u001b[39mprint\u001b[39m(line\u001b[39m.\u001b[39;49mstr\u001b[39m.\u001b[39mstrip())\n",
      "\u001b[1;31mAttributeError\u001b[0m: 'list' object has no attribute 'str'"
     ]
    }
   ],
   "source": [
    "for i in line:\n",
    "    print(line.str.strip())"
   ]
  },
  {
   "cell_type": "code",
   "execution_count": 11,
   "metadata": {},
   "outputs": [],
   "source": [
    "for i in line\n",
    "        print(line)"
   ]
  },
  {
   "cell_type": "code",
   "execution_count": null,
   "metadata": {},
   "outputs": [],
   "source": [
    "                  "
   ]
  }
 ],
 "metadata": {
  "kernelspec": {
   "display_name": "base",
   "language": "python",
   "name": "python3"
  },
  "language_info": {
   "codemirror_mode": {
    "name": "ipython",
    "version": 3
   },
   "file_extension": ".py",
   "mimetype": "text/x-python",
   "name": "python",
   "nbconvert_exporter": "python",
   "pygments_lexer": "ipython3",
   "version": "3.10.9"
  },
  "orig_nbformat": 4
 },
 "nbformat": 4,
 "nbformat_minor": 2
}
