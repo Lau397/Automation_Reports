{
 "cells": [
  {
   "cell_type": "code",
   "execution_count": 1,
   "id": "1dca509d",
   "metadata": {},
   "outputs": [],
   "source": [
    "# Importing libraries\n",
    "import pandas as pd"
   ]
  },
  {
   "cell_type": "code",
   "execution_count": 2,
   "id": "869a146c",
   "metadata": {},
   "outputs": [],
   "source": [
    "# Specifying relative path to input files\n",
    "file_dir1 = 'input\\Lord Abbett Short Duration Core APX_Breakdowns_3Q2018-3Q2022.xlsx'\n",
    "file_dir2 = 'input\\Lord Abbett Short Duration Core APX_Characteristics_3Q2018-3Q2022.xlsx'"
   ]
  },
  {
   "cell_type": "code",
   "execution_count": 3,
   "id": "07eeaa3e",
   "metadata": {},
   "outputs": [
    {
     "data": {
      "text/html": [
       "<div>\n",
       "<style scoped>\n",
       "    .dataframe tbody tr th:only-of-type {\n",
       "        vertical-align: middle;\n",
       "    }\n",
       "\n",
       "    .dataframe tbody tr th {\n",
       "        vertical-align: top;\n",
       "    }\n",
       "\n",
       "    .dataframe thead th {\n",
       "        text-align: right;\n",
       "    }\n",
       "</style>\n",
       "<table border=\"1\" class=\"dataframe\">\n",
       "  <thead>\n",
       "    <tr style=\"text-align: right;\">\n",
       "      <th></th>\n",
       "      <th>APX Code</th>\n",
       "      <th>ACCOUNT_NUMBER</th>\n",
       "      <th>END_DATE</th>\n",
       "      <th>DESCRIPTION</th>\n",
       "      <th>SRC_LABEL</th>\n",
       "      <th>VALUE_NUM</th>\n",
       "    </tr>\n",
       "  </thead>\n",
       "  <tbody>\n",
       "    <tr>\n",
       "      <th>0</th>\n",
       "      <td>P70259</td>\n",
       "      <td>5061</td>\n",
       "      <td>2018-09-28</td>\n",
       "      <td>APX - Country Contribution by Sector Breakdown</td>\n",
       "      <td>Agency;Emerging Markets</td>\n",
       "      <td>(null)</td>\n",
       "    </tr>\n",
       "  </tbody>\n",
       "</table>\n",
       "</div>"
      ],
      "text/plain": [
       "  APX Code  ACCOUNT_NUMBER   END_DATE  \\\n",
       "0   P70259            5061 2018-09-28   \n",
       "\n",
       "                                      DESCRIPTION                SRC_LABEL  \\\n",
       "0  APX - Country Contribution by Sector Breakdown  Agency;Emerging Markets   \n",
       "\n",
       "  VALUE_NUM  \n",
       "0    (null)  "
      ]
     },
     "execution_count": 3,
     "metadata": {},
     "output_type": "execute_result"
    }
   ],
   "source": [
    "# Reading both Excel files using Pandas:\n",
    "df1 = pd.read_excel(file_dir1)\n",
    "df2 = pd.read_excel(file_dir2)\n",
    "\n",
    "# Quick sample view of Pandas df:\n",
    "df1.head(1)"
   ]
  },
  {
   "cell_type": "code",
   "execution_count": 4,
   "id": "1de4906d",
   "metadata": {},
   "outputs": [
    {
     "name": "stdout",
     "output_type": "stream",
     "text": [
      "<class 'pandas.core.frame.DataFrame'>\n",
      "RangeIndex: 5310 entries, 0 to 5309\n",
      "Data columns (total 6 columns):\n",
      " #   Column          Non-Null Count  Dtype         \n",
      "---  ------          --------------  -----         \n",
      " 0   APX Code        5310 non-null   object        \n",
      " 1   ACCOUNT_NUMBER  5310 non-null   int64         \n",
      " 2   END_DATE        5310 non-null   datetime64[ns]\n",
      " 3   DESCRIPTION     5310 non-null   object        \n",
      " 4   SRC_LABEL       5310 non-null   object        \n",
      " 5   VALUE_NUM       5310 non-null   object        \n",
      "dtypes: datetime64[ns](1), int64(1), object(4)\n",
      "memory usage: 249.0+ KB\n"
     ]
    }
   ],
   "source": [
    "# Checking correct type of data for each attribute, especially END_DATE column:\n",
    "df1.info()"
   ]
  },
  {
   "cell_type": "code",
   "execution_count": 5,
   "id": "21605f72",
   "metadata": {},
   "outputs": [
    {
     "name": "stdout",
     "output_type": "stream",
     "text": [
      "<class 'pandas.core.frame.DataFrame'>\n",
      "RangeIndex: 367 entries, 0 to 366\n",
      "Data columns (total 5 columns):\n",
      " #   Column        Non-Null Count  Dtype         \n",
      "---  ------        --------------  -----         \n",
      " 0   DESCRIPTION   367 non-null    object        \n",
      " 1   END_DATE      367 non-null    datetime64[ns]\n",
      " 2   NUM_VALUE     367 non-null    object        \n",
      " 3   LA Account #  367 non-null    int64         \n",
      " 4   APX Code      367 non-null    object        \n",
      "dtypes: datetime64[ns](1), int64(1), object(3)\n",
      "memory usage: 14.5+ KB\n"
     ]
    }
   ],
   "source": [
    "df2.info()"
   ]
  },
  {
   "cell_type": "code",
   "execution_count": 6,
   "id": "145653fc",
   "metadata": {},
   "outputs": [
    {
     "name": "stdout",
     "output_type": "stream",
     "text": [
      "For the first file, min year is: 2018\n",
      "For the first file, max year is: 2022\n",
      "For the first file, min month is: 3\n",
      "For the first file, max month is: 12\n",
      "For the first file, min day is: 28\n",
      "For the first file, max day is: 31\n",
      "*********************************************\n",
      "For the second file, min year is: 2018\n",
      "For the second file, max year is: 2022\n",
      "For the second file, min month is: 3\n",
      "For the second file, max month is: 12\n",
      "For the second file, min day is: 28\n",
      "For the second file, max day is: 31\n"
     ]
    }
   ],
   "source": [
    "# Viewing minimum and maximum year, month and day for each file:\n",
    "print('For the first file, min year is:', df1.END_DATE.dt.year.min())\n",
    "print('For the first file, max year is:', df1.END_DATE.dt.year.max())\n",
    "print('For the first file, min month is:', df1.END_DATE.dt.month.min())\n",
    "print('For the first file, max month is:', df1.END_DATE.dt.month.max())\n",
    "print('For the first file, min day is:', df1.END_DATE.dt.day.min())\n",
    "print('For the first file, max day is:', df1.END_DATE.dt.day.max())\n",
    "\n",
    "print(\"*********************************************\")\n",
    "\n",
    "print('For the second file, min year is:',df2.END_DATE.dt.year.min())\n",
    "print('For the second file, max year is:',df2.END_DATE.dt.year.max())\n",
    "print('For the second file, min month is:', df2.END_DATE.dt.month.min())\n",
    "print('For the second file, max month is:', df2.END_DATE.dt.month.max())\n",
    "print('For the second file, min day is:', df2.END_DATE.dt.day.min())\n",
    "print('For the second file, max day is:', df2.END_DATE.dt.day.max())"
   ]
  },
  {
   "cell_type": "code",
   "execution_count": 7,
   "id": "7dd4da78",
   "metadata": {},
   "outputs": [],
   "source": [
    "# Creating a for loop for each year and month\n",
    "# Year and specific months are inputted manually:\n",
    "\n",
    "year = 2018 # (A while loop could also be implemented here)\n",
    "\n",
    "months = 3, 6, 9, 12\n",
    "\n",
    "dfs = []\n",
    "\n",
    "for i in months:\n",
    "    # Take the year and month as int type, turn it into str type and put a zero for months with single digits \n",
    "    # So that df.strftime can read it:\n",
    "    date = str(year)+'-'+str(i).zfill(2)\n",
    "    \n",
    "    # **For the First file**\n",
    "\n",
    "    # Mask dataframe by the date (year and month)\n",
    "    df3 = df1[df1['END_DATE'].dt.strftime('%Y-%m') == date]\n",
    "    # Exporting df mask as Excel file\n",
    "    df3.to_excel(\"output\\split_df_bydate\\Lord Abbett Short Duration Core APX_Characteristics_\" + date + \".xlsx\")\n",
    "    #dfs.append(df3)\n",
    "\n",
    "    # **For the Second file**\n",
    "\n",
    "    # Mask dataframe by the date (year and month)\n",
    "    df4 = df2[df2['END_DATE'].dt.strftime('%Y-%m') == date]\n",
    "    # Exporting df mask as Excel file\n",
    "    df4.to_excel(\"output\\split_df_bydate\\Lord Abbett Short Duration Core APX_Breakdowns_\" + date + \".xlsx\")\n",
    "    #dfs.append(df4)\n"
   ]
  },
  {
   "cell_type": "code",
   "execution_count": null,
   "metadata": {},
   "outputs": [],
   "source": []
  }
 ],
 "metadata": {
  "kernelspec": {
   "display_name": "Python 3 (ipykernel)",
   "language": "python",
   "name": "python3"
  },
  "language_info": {
   "codemirror_mode": {
    "name": "ipython",
    "version": 3
   },
   "file_extension": ".py",
   "mimetype": "text/x-python",
   "name": "python",
   "nbconvert_exporter": "python",
   "pygments_lexer": "ipython3",
   "version": "3.10.9"
  }
 },
 "nbformat": 4,
 "nbformat_minor": 5
}
